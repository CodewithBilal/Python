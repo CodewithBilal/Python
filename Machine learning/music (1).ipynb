{
  "cells": [
    {
      "cell_type": "code",
      "execution_count": null,
      "metadata": {
        "id": "lQFm18G9PXMC"
      },
      "outputs": [],
      "source": [
        "import pandas as pd\n",
        "import numpy as np\n",
        "import matplotlib.pyplot as plt\n",
        "import seaborn as sns\n"
      ]
    },
    {
      "cell_type": "code",
      "execution_count": null,
      "metadata": {
        "colab": {
          "base_uri": "https://localhost:8080/",
          "height": 206
        },
        "id": "dbMBS15nPXMH",
        "outputId": "b9ec7798-9223-4eee-95c7-aca04c2728ee"
      },
      "outputs": [
        {
          "output_type": "execute_result",
          "data": {
            "text/plain": [
              "  artist                   song                                        link  \\\n",
              "0   ABBA  Ahe's My Kind Of Girl  /a/abba/ahes+my+kind+of+girl_20598417.html   \n",
              "1   ABBA       Andante, Andante       /a/abba/andante+andante_20002708.html   \n",
              "2   ABBA         As Good As New        /a/abba/as+good+as+new_20003033.html   \n",
              "3   ABBA                   Bang                  /a/abba/bang_20598415.html   \n",
              "4   ABBA       Bang-A-Boomerang      /a/abba/bang+a+boomerang_20002668.html   \n",
              "\n",
              "                                                text  \n",
              "0  Look at her face, it's a wonderful face  \\nAnd...  \n",
              "1  Take it easy with me, please  \\nTouch me gentl...  \n",
              "2  I'll never know why I had to go  \\nWhy I had t...  \n",
              "3  Making somebody happy is a question of give an...  \n",
              "4  Making somebody happy is a question of give an...  "
            ],
            "text/html": [
              "\n",
              "  <div id=\"df-f2bf05ad-2e2c-4718-95d7-c62a67f4df57\" class=\"colab-df-container\">\n",
              "    <div>\n",
              "<style scoped>\n",
              "    .dataframe tbody tr th:only-of-type {\n",
              "        vertical-align: middle;\n",
              "    }\n",
              "\n",
              "    .dataframe tbody tr th {\n",
              "        vertical-align: top;\n",
              "    }\n",
              "\n",
              "    .dataframe thead th {\n",
              "        text-align: right;\n",
              "    }\n",
              "</style>\n",
              "<table border=\"1\" class=\"dataframe\">\n",
              "  <thead>\n",
              "    <tr style=\"text-align: right;\">\n",
              "      <th></th>\n",
              "      <th>artist</th>\n",
              "      <th>song</th>\n",
              "      <th>link</th>\n",
              "      <th>text</th>\n",
              "    </tr>\n",
              "  </thead>\n",
              "  <tbody>\n",
              "    <tr>\n",
              "      <th>0</th>\n",
              "      <td>ABBA</td>\n",
              "      <td>Ahe's My Kind Of Girl</td>\n",
              "      <td>/a/abba/ahes+my+kind+of+girl_20598417.html</td>\n",
              "      <td>Look at her face, it's a wonderful face  \\nAnd...</td>\n",
              "    </tr>\n",
              "    <tr>\n",
              "      <th>1</th>\n",
              "      <td>ABBA</td>\n",
              "      <td>Andante, Andante</td>\n",
              "      <td>/a/abba/andante+andante_20002708.html</td>\n",
              "      <td>Take it easy with me, please  \\nTouch me gentl...</td>\n",
              "    </tr>\n",
              "    <tr>\n",
              "      <th>2</th>\n",
              "      <td>ABBA</td>\n",
              "      <td>As Good As New</td>\n",
              "      <td>/a/abba/as+good+as+new_20003033.html</td>\n",
              "      <td>I'll never know why I had to go  \\nWhy I had t...</td>\n",
              "    </tr>\n",
              "    <tr>\n",
              "      <th>3</th>\n",
              "      <td>ABBA</td>\n",
              "      <td>Bang</td>\n",
              "      <td>/a/abba/bang_20598415.html</td>\n",
              "      <td>Making somebody happy is a question of give an...</td>\n",
              "    </tr>\n",
              "    <tr>\n",
              "      <th>4</th>\n",
              "      <td>ABBA</td>\n",
              "      <td>Bang-A-Boomerang</td>\n",
              "      <td>/a/abba/bang+a+boomerang_20002668.html</td>\n",
              "      <td>Making somebody happy is a question of give an...</td>\n",
              "    </tr>\n",
              "  </tbody>\n",
              "</table>\n",
              "</div>\n",
              "    <div class=\"colab-df-buttons\">\n",
              "\n",
              "  <div class=\"colab-df-container\">\n",
              "    <button class=\"colab-df-convert\" onclick=\"convertToInteractive('df-f2bf05ad-2e2c-4718-95d7-c62a67f4df57')\"\n",
              "            title=\"Convert this dataframe to an interactive table.\"\n",
              "            style=\"display:none;\">\n",
              "\n",
              "  <svg xmlns=\"http://www.w3.org/2000/svg\" height=\"24px\" viewBox=\"0 -960 960 960\">\n",
              "    <path d=\"M120-120v-720h720v720H120Zm60-500h600v-160H180v160Zm220 220h160v-160H400v160Zm0 220h160v-160H400v160ZM180-400h160v-160H180v160Zm440 0h160v-160H620v160ZM180-180h160v-160H180v160Zm440 0h160v-160H620v160Z\"/>\n",
              "  </svg>\n",
              "    </button>\n",
              "\n",
              "  <style>\n",
              "    .colab-df-container {\n",
              "      display:flex;\n",
              "      gap: 12px;\n",
              "    }\n",
              "\n",
              "    .colab-df-convert {\n",
              "      background-color: #E8F0FE;\n",
              "      border: none;\n",
              "      border-radius: 50%;\n",
              "      cursor: pointer;\n",
              "      display: none;\n",
              "      fill: #1967D2;\n",
              "      height: 32px;\n",
              "      padding: 0 0 0 0;\n",
              "      width: 32px;\n",
              "    }\n",
              "\n",
              "    .colab-df-convert:hover {\n",
              "      background-color: #E2EBFA;\n",
              "      box-shadow: 0px 1px 2px rgba(60, 64, 67, 0.3), 0px 1px 3px 1px rgba(60, 64, 67, 0.15);\n",
              "      fill: #174EA6;\n",
              "    }\n",
              "\n",
              "    .colab-df-buttons div {\n",
              "      margin-bottom: 4px;\n",
              "    }\n",
              "\n",
              "    [theme=dark] .colab-df-convert {\n",
              "      background-color: #3B4455;\n",
              "      fill: #D2E3FC;\n",
              "    }\n",
              "\n",
              "    [theme=dark] .colab-df-convert:hover {\n",
              "      background-color: #434B5C;\n",
              "      box-shadow: 0px 1px 3px 1px rgba(0, 0, 0, 0.15);\n",
              "      filter: drop-shadow(0px 1px 2px rgba(0, 0, 0, 0.3));\n",
              "      fill: #FFFFFF;\n",
              "    }\n",
              "  </style>\n",
              "\n",
              "    <script>\n",
              "      const buttonEl =\n",
              "        document.querySelector('#df-f2bf05ad-2e2c-4718-95d7-c62a67f4df57 button.colab-df-convert');\n",
              "      buttonEl.style.display =\n",
              "        google.colab.kernel.accessAllowed ? 'block' : 'none';\n",
              "\n",
              "      async function convertToInteractive(key) {\n",
              "        const element = document.querySelector('#df-f2bf05ad-2e2c-4718-95d7-c62a67f4df57');\n",
              "        const dataTable =\n",
              "          await google.colab.kernel.invokeFunction('convertToInteractive',\n",
              "                                                    [key], {});\n",
              "        if (!dataTable) return;\n",
              "\n",
              "        const docLinkHtml = 'Like what you see? Visit the ' +\n",
              "          '<a target=\"_blank\" href=https://colab.research.google.com/notebooks/data_table.ipynb>data table notebook</a>'\n",
              "          + ' to learn more about interactive tables.';\n",
              "        element.innerHTML = '';\n",
              "        dataTable['output_type'] = 'display_data';\n",
              "        await google.colab.output.renderOutput(dataTable, element);\n",
              "        const docLink = document.createElement('div');\n",
              "        docLink.innerHTML = docLinkHtml;\n",
              "        element.appendChild(docLink);\n",
              "      }\n",
              "    </script>\n",
              "  </div>\n",
              "\n",
              "\n",
              "<div id=\"df-6a6bf9ed-a9b3-45d6-b2eb-8231ffb91682\">\n",
              "  <button class=\"colab-df-quickchart\" onclick=\"quickchart('df-6a6bf9ed-a9b3-45d6-b2eb-8231ffb91682')\"\n",
              "            title=\"Suggest charts\"\n",
              "            style=\"display:none;\">\n",
              "\n",
              "<svg xmlns=\"http://www.w3.org/2000/svg\" height=\"24px\"viewBox=\"0 0 24 24\"\n",
              "     width=\"24px\">\n",
              "    <g>\n",
              "        <path d=\"M19 3H5c-1.1 0-2 .9-2 2v14c0 1.1.9 2 2 2h14c1.1 0 2-.9 2-2V5c0-1.1-.9-2-2-2zM9 17H7v-7h2v7zm4 0h-2V7h2v10zm4 0h-2v-4h2v4z\"/>\n",
              "    </g>\n",
              "</svg>\n",
              "  </button>\n",
              "\n",
              "<style>\n",
              "  .colab-df-quickchart {\n",
              "      --bg-color: #E8F0FE;\n",
              "      --fill-color: #1967D2;\n",
              "      --hover-bg-color: #E2EBFA;\n",
              "      --hover-fill-color: #174EA6;\n",
              "      --disabled-fill-color: #AAA;\n",
              "      --disabled-bg-color: #DDD;\n",
              "  }\n",
              "\n",
              "  [theme=dark] .colab-df-quickchart {\n",
              "      --bg-color: #3B4455;\n",
              "      --fill-color: #D2E3FC;\n",
              "      --hover-bg-color: #434B5C;\n",
              "      --hover-fill-color: #FFFFFF;\n",
              "      --disabled-bg-color: #3B4455;\n",
              "      --disabled-fill-color: #666;\n",
              "  }\n",
              "\n",
              "  .colab-df-quickchart {\n",
              "    background-color: var(--bg-color);\n",
              "    border: none;\n",
              "    border-radius: 50%;\n",
              "    cursor: pointer;\n",
              "    display: none;\n",
              "    fill: var(--fill-color);\n",
              "    height: 32px;\n",
              "    padding: 0;\n",
              "    width: 32px;\n",
              "  }\n",
              "\n",
              "  .colab-df-quickchart:hover {\n",
              "    background-color: var(--hover-bg-color);\n",
              "    box-shadow: 0 1px 2px rgba(60, 64, 67, 0.3), 0 1px 3px 1px rgba(60, 64, 67, 0.15);\n",
              "    fill: var(--button-hover-fill-color);\n",
              "  }\n",
              "\n",
              "  .colab-df-quickchart-complete:disabled,\n",
              "  .colab-df-quickchart-complete:disabled:hover {\n",
              "    background-color: var(--disabled-bg-color);\n",
              "    fill: var(--disabled-fill-color);\n",
              "    box-shadow: none;\n",
              "  }\n",
              "\n",
              "  .colab-df-spinner {\n",
              "    border: 2px solid var(--fill-color);\n",
              "    border-color: transparent;\n",
              "    border-bottom-color: var(--fill-color);\n",
              "    animation:\n",
              "      spin 1s steps(1) infinite;\n",
              "  }\n",
              "\n",
              "  @keyframes spin {\n",
              "    0% {\n",
              "      border-color: transparent;\n",
              "      border-bottom-color: var(--fill-color);\n",
              "      border-left-color: var(--fill-color);\n",
              "    }\n",
              "    20% {\n",
              "      border-color: transparent;\n",
              "      border-left-color: var(--fill-color);\n",
              "      border-top-color: var(--fill-color);\n",
              "    }\n",
              "    30% {\n",
              "      border-color: transparent;\n",
              "      border-left-color: var(--fill-color);\n",
              "      border-top-color: var(--fill-color);\n",
              "      border-right-color: var(--fill-color);\n",
              "    }\n",
              "    40% {\n",
              "      border-color: transparent;\n",
              "      border-right-color: var(--fill-color);\n",
              "      border-top-color: var(--fill-color);\n",
              "    }\n",
              "    60% {\n",
              "      border-color: transparent;\n",
              "      border-right-color: var(--fill-color);\n",
              "    }\n",
              "    80% {\n",
              "      border-color: transparent;\n",
              "      border-right-color: var(--fill-color);\n",
              "      border-bottom-color: var(--fill-color);\n",
              "    }\n",
              "    90% {\n",
              "      border-color: transparent;\n",
              "      border-bottom-color: var(--fill-color);\n",
              "    }\n",
              "  }\n",
              "</style>\n",
              "\n",
              "  <script>\n",
              "    async function quickchart(key) {\n",
              "      const quickchartButtonEl =\n",
              "        document.querySelector('#' + key + ' button');\n",
              "      quickchartButtonEl.disabled = true;  // To prevent multiple clicks.\n",
              "      quickchartButtonEl.classList.add('colab-df-spinner');\n",
              "      try {\n",
              "        const charts = await google.colab.kernel.invokeFunction(\n",
              "            'suggestCharts', [key], {});\n",
              "      } catch (error) {\n",
              "        console.error('Error during call to suggestCharts:', error);\n",
              "      }\n",
              "      quickchartButtonEl.classList.remove('colab-df-spinner');\n",
              "      quickchartButtonEl.classList.add('colab-df-quickchart-complete');\n",
              "    }\n",
              "    (() => {\n",
              "      let quickchartButtonEl =\n",
              "        document.querySelector('#df-6a6bf9ed-a9b3-45d6-b2eb-8231ffb91682 button');\n",
              "      quickchartButtonEl.style.display =\n",
              "        google.colab.kernel.accessAllowed ? 'block' : 'none';\n",
              "    })();\n",
              "  </script>\n",
              "</div>\n",
              "\n",
              "    </div>\n",
              "  </div>\n"
            ]
          },
          "metadata": {},
          "execution_count": 38
        }
      ],
      "source": [
        "df=pd.read_csv('songdata.csv')\n",
        "df.head()\n"
      ]
    },
    {
      "cell_type": "code",
      "execution_count": null,
      "metadata": {
        "colab": {
          "base_uri": "https://localhost:8080/"
        },
        "id": "ylEcskwAPXMJ",
        "outputId": "faeb7972-1c28-429d-8c2b-b6cd04a88a5b"
      },
      "outputs": [
        {
          "output_type": "execute_result",
          "data": {
            "text/plain": [
              "(57650, 4)"
            ]
          },
          "metadata": {},
          "execution_count": 39
        }
      ],
      "source": [
        "df.shape"
      ]
    },
    {
      "cell_type": "code",
      "execution_count": null,
      "metadata": {
        "id": "8lUGrHhoPXMK"
      },
      "outputs": [],
      "source": [
        "df=df.sample(n=5000).drop('link',axis=1).reset_index(drop=True)"
      ]
    },
    {
      "cell_type": "code",
      "execution_count": null,
      "metadata": {
        "id": "ArNNsztXPXMK"
      },
      "outputs": [],
      "source": [
        "#Cleaning\n",
        "\n",
        "#\\w\\s shows any charcater\n",
        "\n",
        "\n",
        "df['text']=df['text'].str.lower().replace(r'[^\\w\\s]','').replace(r'\\n','',regex=True)"
      ]
    },
    {
      "cell_type": "code",
      "execution_count": null,
      "metadata": {
        "colab": {
          "base_uri": "https://localhost:8080/"
        },
        "id": "_S9fUBfmPXML",
        "outputId": "500db9bc-0c4b-40e9-873f-99c6877d151b"
      },
      "outputs": [
        {
          "output_type": "execute_result",
          "data": {
            "text/plain": [
              "0       i've got male intuition  i've got sexual ambit...\n",
              "1       one has my name, the other has my heart  with ...\n",
              "2       i put on her colors with honor  and carried th...\n",
              "3       (harold beaty)  baby like a symphony  that's h...\n",
              "4       i took this girl out last night and we left ar...\n",
              "                              ...                        \n",
              "4995    how fast can a heart shatter  before you're wa...\n",
              "4996    words and music by arlo guthrie  in the event ...\n",
              "4997    all the way home we felt we had a chance  to r...\n",
              "4998    sunlight, opened up my eyes  to see for the fi...\n",
              "4999    well my name is catherine lefevre  i work at t...\n",
              "Name: text, Length: 5000, dtype: object"
            ]
          },
          "metadata": {},
          "execution_count": 12
        }
      ],
      "source": [
        "df['text']"
      ]
    },
    {
      "cell_type": "code",
      "execution_count": null,
      "metadata": {
        "id": "u5YI8_HmPXMM",
        "outputId": "37e0f4ef-b641-4400-e47a-917637d113f5"
      },
      "outputs": [
        {
          "name": "stdout",
          "output_type": "stream",
          "text": [
            "Collecting nltk\n",
            "  Downloading nltk-3.8.1-py3-none-any.whl (1.5 MB)\n",
            "     ---------------------------------------- 0.0/1.5 MB ? eta -:--:--\n",
            "      --------------------------------------- 0.0/1.5 MB 1.4 MB/s eta 0:00:02\n",
            "      --------------------------------------- 0.0/1.5 MB 1.4 MB/s eta 0:00:02\n",
            "      --------------------------------------- 0.0/1.5 MB 1.4 MB/s eta 0:00:02\n",
            "      --------------------------------------- 0.0/1.5 MB 1.4 MB/s eta 0:00:02\n",
            "      --------------------------------------- 0.0/1.5 MB 1.4 MB/s eta 0:00:02\n",
            "      --------------------------------------- 0.0/1.5 MB 1.4 MB/s eta 0:00:02\n",
            "      --------------------------------------- 0.0/1.5 MB 1.4 MB/s eta 0:00:02\n",
            "     - -------------------------------------- 0.0/1.5 MB 81.9 kB/s eta 0:00:18\n",
            "     - -------------------------------------- 0.1/1.5 MB 151.3 kB/s eta 0:00:10\n",
            "     -- ------------------------------------- 0.1/1.5 MB 187.5 kB/s eta 0:00:08\n",
            "     -- ------------------------------------- 0.1/1.5 MB 187.5 kB/s eta 0:00:08\n",
            "     -- ------------------------------------- 0.1/1.5 MB 187.5 kB/s eta 0:00:08\n",
            "     -- ------------------------------------- 0.1/1.5 MB 187.5 kB/s eta 0:00:08\n",
            "     -- ------------------------------------- 0.1/1.5 MB 187.5 kB/s eta 0:00:08\n",
            "     -- ------------------------------------- 0.1/1.5 MB 142.6 kB/s eta 0:00:10\n",
            "     --- ------------------------------------ 0.1/1.5 MB 150.2 kB/s eta 0:00:10\n",
            "     ---- ----------------------------------- 0.2/1.5 MB 176.6 kB/s eta 0:00:08\n",
            "     ---- ----------------------------------- 0.2/1.5 MB 176.6 kB/s eta 0:00:08\n",
            "     ---- ----------------------------------- 0.2/1.5 MB 176.6 kB/s eta 0:00:08\n",
            "     ---- ----------------------------------- 0.2/1.5 MB 176.6 kB/s eta 0:00:08\n",
            "     ---- ----------------------------------- 0.2/1.5 MB 176.6 kB/s eta 0:00:08\n",
            "     ---- ----------------------------------- 0.2/1.5 MB 156.6 kB/s eta 0:00:09\n",
            "     ----- ---------------------------------- 0.2/1.5 MB 166.2 kB/s eta 0:00:08\n",
            "     ----- ---------------------------------- 0.2/1.5 MB 166.2 kB/s eta 0:00:08\n",
            "     ----- ---------------------------------- 0.2/1.5 MB 178.8 kB/s eta 0:00:08\n",
            "     ------ --------------------------------- 0.2/1.5 MB 182.6 kB/s eta 0:00:07\n",
            "     ------ --------------------------------- 0.3/1.5 MB 191.8 kB/s eta 0:00:07\n",
            "     ------- -------------------------------- 0.3/1.5 MB 198.2 kB/s eta 0:00:07\n",
            "     ------- -------------------------------- 0.3/1.5 MB 198.2 kB/s eta 0:00:07\n",
            "     ------- -------------------------------- 0.3/1.5 MB 196.6 kB/s eta 0:00:07\n",
            "     -------- ------------------------------- 0.3/1.5 MB 202.3 kB/s eta 0:00:06\n",
            "     -------- ------------------------------- 0.3/1.5 MB 200.7 kB/s eta 0:00:06\n",
            "     --------- ------------------------------ 0.4/1.5 MB 220.6 kB/s eta 0:00:06\n",
            "     --------- ------------------------------ 0.4/1.5 MB 220.6 kB/s eta 0:00:06\n",
            "     --------- ------------------------------ 0.4/1.5 MB 220.6 kB/s eta 0:00:06\n",
            "     ---------- ----------------------------- 0.4/1.5 MB 222.5 kB/s eta 0:00:06\n",
            "     ---------- ----------------------------- 0.4/1.5 MB 220.5 kB/s eta 0:00:06\n",
            "     ----------- ---------------------------- 0.4/1.5 MB 228.1 kB/s eta 0:00:05\n",
            "     ----------- ---------------------------- 0.4/1.5 MB 231.3 kB/s eta 0:00:05\n",
            "     ------------ --------------------------- 0.5/1.5 MB 241.8 kB/s eta 0:00:05\n",
            "     ------------ --------------------------- 0.5/1.5 MB 241.2 kB/s eta 0:00:05\n",
            "     ------------ --------------------------- 0.5/1.5 MB 241.2 kB/s eta 0:00:05\n",
            "     ------------- -------------------------- 0.5/1.5 MB 243.9 kB/s eta 0:00:05\n",
            "     ------------- -------------------------- 0.5/1.5 MB 244.6 kB/s eta 0:00:05\n",
            "     ------------- -------------------------- 0.5/1.5 MB 244.6 kB/s eta 0:00:05\n",
            "     -------------- ------------------------- 0.6/1.5 MB 248.2 kB/s eta 0:00:04\n",
            "     -------------- ------------------------- 0.6/1.5 MB 249.3 kB/s eta 0:00:04\n",
            "     --------------- ------------------------ 0.6/1.5 MB 251.4 kB/s eta 0:00:04\n",
            "     --------------- ------------------------ 0.6/1.5 MB 256.9 kB/s eta 0:00:04\n",
            "     ---------------- ----------------------- 0.6/1.5 MB 257.9 kB/s eta 0:00:04\n",
            "     ---------------- ----------------------- 0.6/1.5 MB 259.6 kB/s eta 0:00:04\n",
            "     ----------------- ---------------------- 0.6/1.5 MB 258.8 kB/s eta 0:00:04\n",
            "     ------------------ --------------------- 0.7/1.5 MB 267.0 kB/s eta 0:00:04\n",
            "     ------------------ --------------------- 0.7/1.5 MB 267.0 kB/s eta 0:00:04\n",
            "     ------------------ --------------------- 0.7/1.5 MB 269.2 kB/s eta 0:00:03\n",
            "     ------------------- -------------------- 0.7/1.5 MB 268.4 kB/s eta 0:00:03\n",
            "     ------------------- -------------------- 0.7/1.5 MB 270.6 kB/s eta 0:00:03\n",
            "     -------------------- ------------------- 0.8/1.5 MB 273.4 kB/s eta 0:00:03\n",
            "     -------------------- ------------------- 0.8/1.5 MB 276.2 kB/s eta 0:00:03\n",
            "     --------------------- ------------------ 0.8/1.5 MB 279.4 kB/s eta 0:00:03\n",
            "     --------------------- ------------------ 0.8/1.5 MB 279.9 kB/s eta 0:00:03\n",
            "     ---------------------- ----------------- 0.8/1.5 MB 279.5 kB/s eta 0:00:03\n",
            "     ---------------------- ----------------- 0.9/1.5 MB 281.9 kB/s eta 0:00:03\n",
            "     ----------------------- ---------------- 0.9/1.5 MB 282.4 kB/s eta 0:00:03\n",
            "     ----------------------- ---------------- 0.9/1.5 MB 285.1 kB/s eta 0:00:03\n",
            "     ------------------------ --------------- 0.9/1.5 MB 288.8 kB/s eta 0:00:03\n",
            "     ------------------------- -------------- 1.0/1.5 MB 292.8 kB/s eta 0:00:02\n",
            "     ------------------------- -------------- 1.0/1.5 MB 296.2 kB/s eta 0:00:02\n",
            "     -------------------------- ------------- 1.0/1.5 MB 292.3 kB/s eta 0:00:02\n",
            "     -------------------------- ------------- 1.0/1.5 MB 294.3 kB/s eta 0:00:02\n",
            "     --------------------------- ------------ 1.0/1.5 MB 297.6 kB/s eta 0:00:02\n",
            "     --------------------------- ------------ 1.0/1.5 MB 297.9 kB/s eta 0:00:02\n",
            "     ---------------------------- ----------- 1.1/1.5 MB 301.3 kB/s eta 0:00:02\n",
            "     ---------------------------- ----------- 1.1/1.5 MB 303.2 kB/s eta 0:00:02\n",
            "     ----------------------------- ---------- 1.1/1.5 MB 306.2 kB/s eta 0:00:02\n",
            "     ------------------------------ --------- 1.1/1.5 MB 308.1 kB/s eta 0:00:02\n",
            "     ------------------------------ --------- 1.1/1.5 MB 308.1 kB/s eta 0:00:02\n",
            "     ------------------------------ --------- 1.2/1.5 MB 309.9 kB/s eta 0:00:02\n",
            "     ------------------------------- -------- 1.2/1.5 MB 312.8 kB/s eta 0:00:02\n",
            "     -------------------------------- ------- 1.2/1.5 MB 314.4 kB/s eta 0:00:01\n",
            "     -------------------------------- ------- 1.2/1.5 MB 313.3 kB/s eta 0:00:01\n",
            "     --------------------------------- ------ 1.2/1.5 MB 317.2 kB/s eta 0:00:01\n",
            "     --------------------------------- ------ 1.2/1.5 MB 317.2 kB/s eta 0:00:01\n",
            "     ---------------------------------- ----- 1.3/1.5 MB 322.6 kB/s eta 0:00:01\n",
            "     ---------------------------------- ----- 1.3/1.5 MB 320.2 kB/s eta 0:00:01\n",
            "     ----------------------------------- ---- 1.3/1.5 MB 322.7 kB/s eta 0:00:01\n",
            "     ----------------------------------- ---- 1.4/1.5 MB 325.2 kB/s eta 0:00:01\n",
            "     ------------------------------------ --- 1.4/1.5 MB 327.7 kB/s eta 0:00:01\n",
            "     ------------------------------------- -- 1.4/1.5 MB 328.9 kB/s eta 0:00:01\n",
            "     ------------------------------------- -- 1.4/1.5 MB 328.9 kB/s eta 0:00:01\n",
            "     -------------------------------------- - 1.4/1.5 MB 328.9 kB/s eta 0:00:01\n",
            "     ---------------------------------------  1.5/1.5 MB 332.3 kB/s eta 0:00:01\n",
            "     ---------------------------------------  1.5/1.5 MB 335.7 kB/s eta 0:00:01\n",
            "     ---------------------------------------- 1.5/1.5 MB 334.6 kB/s eta 0:00:00\n",
            "Collecting click (from nltk)\n",
            "  Obtaining dependency information for click from https://files.pythonhosted.org/packages/00/2e/d53fa4befbf2cfa713304affc7ca780ce4fc1fd8710527771b58311a3229/click-8.1.7-py3-none-any.whl.metadata\n",
            "  Downloading click-8.1.7-py3-none-any.whl.metadata (3.0 kB)\n",
            "Requirement already satisfied: joblib in c:\\users\\rs computer\\appdata\\local\\programs\\python\\python312\\lib\\site-packages (from nltk) (1.3.2)\n",
            "Collecting regex>=2021.8.3 (from nltk)\n",
            "  Obtaining dependency information for regex>=2021.8.3 from https://files.pythonhosted.org/packages/d3/10/6f2d5f8635d7714ad97ce6ade7a643358c4f3e45cde4ed12b7150734a8f3/regex-2023.10.3-cp312-cp312-win_amd64.whl.metadata\n",
            "  Downloading regex-2023.10.3-cp312-cp312-win_amd64.whl.metadata (41 kB)\n",
            "     ---------------------------------------- 0.0/42.0 kB ? eta -:--:--\n",
            "     -------------------------------------  41.0/42.0 kB 991.0 kB/s eta 0:00:01\n",
            "     -------------------------------------- 42.0/42.0 kB 675.1 kB/s eta 0:00:00\n",
            "Collecting tqdm (from nltk)\n",
            "  Obtaining dependency information for tqdm from https://files.pythonhosted.org/packages/00/e5/f12a80907d0884e6dff9c16d0c0114d81b8cd07dc3ae54c5e962cc83037e/tqdm-4.66.1-py3-none-any.whl.metadata\n",
            "  Downloading tqdm-4.66.1-py3-none-any.whl.metadata (57 kB)\n",
            "     ---------------------------------------- 0.0/57.6 kB ? eta -:--:--\n",
            "     --------------------------- ---------- 41.0/57.6 kB 991.0 kB/s eta 0:00:01\n",
            "     -------------------------------------- 57.6/57.6 kB 607.3 kB/s eta 0:00:00\n",
            "Requirement already satisfied: colorama in c:\\users\\rs computer\\appdata\\roaming\\python\\python312\\site-packages (from click->nltk) (0.4.6)\n",
            "Downloading regex-2023.10.3-cp312-cp312-win_amd64.whl (268 kB)\n",
            "   ---------------------------------------- 0.0/269.0 kB ? eta -:--:--\n",
            "   --------- ------------------------------ 61.4/269.0 kB 1.7 MB/s eta 0:00:01\n",
            "   ------------ --------------------------- 81.9/269.0 kB 1.5 MB/s eta 0:00:01\n",
            "   ---------------- ----------------------- 112.6/269.0 kB 1.1 MB/s eta 0:00:01\n",
            "   -------------------- ----------------- 143.4/269.0 kB 853.3 kB/s eta 0:00:01\n",
            "   ----------------------- -------------- 163.8/269.0 kB 893.0 kB/s eta 0:00:01\n",
            "   ----------------------- -------------- 163.8/269.0 kB 893.0 kB/s eta 0:00:01\n",
            "   ----------------------- -------------- 163.8/269.0 kB 893.0 kB/s eta 0:00:01\n",
            "   ---------------------------- --------- 204.8/269.0 kB 518.8 kB/s eta 0:00:01\n",
            "   ---------------------------------- --- 245.8/269.0 kB 558.1 kB/s eta 0:00:01\n",
            "   -------------------------------------  266.2/269.0 kB 565.1 kB/s eta 0:00:01\n",
            "   -------------------------------------- 269.0/269.0 kB 551.7 kB/s eta 0:00:00\n",
            "Downloading click-8.1.7-py3-none-any.whl (97 kB)\n",
            "   ---------------------------------------- 0.0/97.9 kB ? eta -:--:--\n",
            "   ----------------------------- ---------- 71.7/97.9 kB 4.1 MB/s eta 0:00:01\n",
            "   ---------------------------------------- 97.9/97.9 kB 1.4 MB/s eta 0:00:00\n",
            "Downloading tqdm-4.66.1-py3-none-any.whl (78 kB)\n",
            "   ---------------------------------------- 0.0/78.3 kB ? eta -:--:--\n",
            "   ---------------------------------------- 78.3/78.3 kB 2.1 MB/s eta 0:00:00\n",
            "Installing collected packages: tqdm, regex, click, nltk\n",
            "Successfully installed click-8.1.7 nltk-3.8.1 regex-2023.10.3 tqdm-4.66.1\n",
            "Note: you may need to restart the kernel to use updated packages.\n"
          ]
        },
        {
          "name": "stderr",
          "output_type": "stream",
          "text": [
            "  WARNING: The script tqdm.exe is installed in 'c:\\Users\\RS COMPUTER\\AppData\\Local\\Programs\\Python\\Python312\\Scripts' which is not on PATH.\n",
            "  Consider adding this directory to PATH or, if you prefer to suppress this warning, use --no-warn-script-location.\n",
            "  WARNING: The script nltk.exe is installed in 'c:\\Users\\RS COMPUTER\\AppData\\Local\\Programs\\Python\\Python312\\Scripts' which is not on PATH.\n",
            "  Consider adding this directory to PATH or, if you prefer to suppress this warning, use --no-warn-script-location.\n",
            "\n",
            "[notice] A new release of pip is available: 23.2.1 -> 23.3.2\n",
            "[notice] To update, run: python.exe -m pip install --upgrade pip\n"
          ]
        }
      ],
      "source": [
        "pip install nltk"
      ]
    },
    {
      "cell_type": "code",
      "execution_count": null,
      "metadata": {
        "id": "Ib_QLpLAPXMN"
      },
      "outputs": [],
      "source": [
        "#steming ---> we use stemping for if we have similar data like love,loved,loving we replace all this kind of words with love.\n",
        "#love,loved,loving===love\n",
        "\n",
        "import nltk\n",
        "from nltk.stem.porter import PorterStemmer"
      ]
    },
    {
      "cell_type": "code",
      "execution_count": null,
      "metadata": {
        "id": "Wv7Hx5FlPXMP"
      },
      "outputs": [],
      "source": [
        "ps=PorterStemmer()\n",
        "\n",
        "def tokenization(txt):\n",
        "    tokens=nltk.word_tokenize(txt)\n",
        "    stemming=[ps.stem(w) for w in tokens]\n",
        "        #stemming.append(ps.stem(w))\n",
        "\n",
        "    return \" \",join(stemming)\n",
        "    df['text']=df['text'].apply(lambda x: tokenization(x))\n"
      ]
    },
    {
      "cell_type": "code",
      "execution_count": null,
      "metadata": {
        "colab": {
          "base_uri": "https://localhost:8080/"
        },
        "id": "kv0ksZEjPXMQ",
        "outputId": "9538a261-d2a5-41ff-f5e8-32ff3d3ba897"
      },
      "outputs": [
        {
          "output_type": "execute_result",
          "data": {
            "text/plain": [
              "0       i 've got male intuit i 've got sexual ambit i...\n",
              "1       one ha my name , the other ha my heart with on...\n",
              "2       i put on her color with honor and carri them o...\n",
              "3       ( harold beati ) babi like a symphoni that 's ...\n",
              "4       i took thi girl out last night and we left aro...\n",
              "                              ...                        \n",
              "4995    how fast can a heart shatter befor you 're wal...\n",
              "4996    word and music by arlo guthri in the event of ...\n",
              "4997    all the way home we felt we had a chanc to rev...\n",
              "4998    sunlight , open up my eye to see for the first...\n",
              "4999    well my name is catherin lefevr i work at the ...\n",
              "Name: text, Length: 5000, dtype: object"
            ]
          },
          "metadata": {},
          "execution_count": 31
        }
      ],
      "source": [
        "df['text']"
      ]
    },
    {
      "cell_type": "code",
      "source": [
        "import nltk\n",
        "nltk.download('punkt')"
      ],
      "metadata": {
        "colab": {
          "base_uri": "https://localhost:8080/"
        },
        "id": "-57nAyzUUtZb",
        "outputId": "957ddd62-d0b0-473b-dd47-da52438264cd"
      },
      "execution_count": null,
      "outputs": [
        {
          "output_type": "stream",
          "name": "stderr",
          "text": [
            "[nltk_data] Downloading package punkt to /root/nltk_data...\n",
            "[nltk_data]   Unzipping tokenizers/punkt.zip.\n"
          ]
        },
        {
          "output_type": "execute_result",
          "data": {
            "text/plain": [
              "True"
            ]
          },
          "metadata": {},
          "execution_count": 20
        }
      ]
    },
    {
      "cell_type": "code",
      "execution_count": null,
      "metadata": {
        "id": "sth5wafwPXMQ"
      },
      "outputs": [],
      "source": [
        "import nltk\n",
        "from nltk.stem import PorterStemmer\n",
        "\n",
        "# Assuming 'df' is your pandas DataFrame\n",
        "ps = PorterStemmer()\n",
        "\n",
        "def tokenization(txt):\n",
        "    tokens = nltk.word_tokenize(txt)\n",
        "    stemming = [ps.stem(w) for w in tokens]\n",
        "    return ' '.join(stemming)\n",
        "\n",
        "# Assuming 'df' is your pandas DataFrame, and 'text' is the column containing text\n",
        "df['text'] = df['text'].apply(lambda x: tokenization(x))"
      ]
    },
    {
      "cell_type": "code",
      "source": [
        "df['text']"
      ],
      "metadata": {
        "colab": {
          "base_uri": "https://localhost:8080/"
        },
        "id": "Ga6Jk1SDUnd6",
        "outputId": "cbab2d7f-11a1-4680-b10b-e04b06cc6c32"
      },
      "execution_count": null,
      "outputs": [
        {
          "output_type": "execute_result",
          "data": {
            "text/plain": [
              "0       i 've got male intuit i 've got sexual ambit i...\n",
              "1       one ha my name , the other ha my heart with on...\n",
              "2       i put on her color with honor and carri them o...\n",
              "3       ( harold beati ) babi like a symphoni that 's ...\n",
              "4       i took thi girl out last night and we left aro...\n",
              "                              ...                        \n",
              "4995    how fast can a heart shatter befor you 're wal...\n",
              "4996    word and music by arlo guthri in the event of ...\n",
              "4997    all the way home we felt we had a chanc to rev...\n",
              "4998    sunlight , open up my eye to see for the first...\n",
              "4999    well my name is catherin lefevr i work at the ...\n",
              "Name: text, Length: 5000, dtype: object"
            ]
          },
          "metadata": {},
          "execution_count": 22
        }
      ]
    },
    {
      "cell_type": "code",
      "source": [
        "from sklearn.feature_extraction.text import TfidfVectorizer\n",
        "#TF-IDF vectorizer is used to convert the textual data into numerical features, and the k-Nearest Neighbors model is used to find similar songs.\n",
        "from sklearn.neighbors import NearestNeighbors\n",
        "\n",
        "\n",
        "\n",
        "# You might need to preprocess the 'text' column based on your specific dataset\n",
        "\n",
        "# Create a TF-IDF vectorizer to convert text into numerical features\n",
        "tfidf_vectorizer = TfidfVectorizer(stop_words='english')\n",
        "tfidf_matrix = tfidf_vectorizer.fit_transform(df['text'])\n",
        "\n",
        "# Create a k-Nearest Neighbors model\n",
        "knn_model = NearestNeighbors(n_neighbors=5, metric='cosine')\n",
        "knn_model.fit(tfidf_matrix)"
      ],
      "metadata": {
        "colab": {
          "base_uri": "https://localhost:8080/",
          "height": 75
        },
        "id": "XViI3cPgeKaJ",
        "outputId": "faf66d33-d646-4653-a094-19c09fb9f15d"
      },
      "execution_count": null,
      "outputs": [
        {
          "output_type": "execute_result",
          "data": {
            "text/plain": [
              "NearestNeighbors(metric='cosine')"
            ],
            "text/html": [
              "<style>#sk-container-id-1 {color: black;background-color: white;}#sk-container-id-1 pre{padding: 0;}#sk-container-id-1 div.sk-toggleable {background-color: white;}#sk-container-id-1 label.sk-toggleable__label {cursor: pointer;display: block;width: 100%;margin-bottom: 0;padding: 0.3em;box-sizing: border-box;text-align: center;}#sk-container-id-1 label.sk-toggleable__label-arrow:before {content: \"▸\";float: left;margin-right: 0.25em;color: #696969;}#sk-container-id-1 label.sk-toggleable__label-arrow:hover:before {color: black;}#sk-container-id-1 div.sk-estimator:hover label.sk-toggleable__label-arrow:before {color: black;}#sk-container-id-1 div.sk-toggleable__content {max-height: 0;max-width: 0;overflow: hidden;text-align: left;background-color: #f0f8ff;}#sk-container-id-1 div.sk-toggleable__content pre {margin: 0.2em;color: black;border-radius: 0.25em;background-color: #f0f8ff;}#sk-container-id-1 input.sk-toggleable__control:checked~div.sk-toggleable__content {max-height: 200px;max-width: 100%;overflow: auto;}#sk-container-id-1 input.sk-toggleable__control:checked~label.sk-toggleable__label-arrow:before {content: \"▾\";}#sk-container-id-1 div.sk-estimator input.sk-toggleable__control:checked~label.sk-toggleable__label {background-color: #d4ebff;}#sk-container-id-1 div.sk-label input.sk-toggleable__control:checked~label.sk-toggleable__label {background-color: #d4ebff;}#sk-container-id-1 input.sk-hidden--visually {border: 0;clip: rect(1px 1px 1px 1px);clip: rect(1px, 1px, 1px, 1px);height: 1px;margin: -1px;overflow: hidden;padding: 0;position: absolute;width: 1px;}#sk-container-id-1 div.sk-estimator {font-family: monospace;background-color: #f0f8ff;border: 1px dotted black;border-radius: 0.25em;box-sizing: border-box;margin-bottom: 0.5em;}#sk-container-id-1 div.sk-estimator:hover {background-color: #d4ebff;}#sk-container-id-1 div.sk-parallel-item::after {content: \"\";width: 100%;border-bottom: 1px solid gray;flex-grow: 1;}#sk-container-id-1 div.sk-label:hover label.sk-toggleable__label {background-color: #d4ebff;}#sk-container-id-1 div.sk-serial::before {content: \"\";position: absolute;border-left: 1px solid gray;box-sizing: border-box;top: 0;bottom: 0;left: 50%;z-index: 0;}#sk-container-id-1 div.sk-serial {display: flex;flex-direction: column;align-items: center;background-color: white;padding-right: 0.2em;padding-left: 0.2em;position: relative;}#sk-container-id-1 div.sk-item {position: relative;z-index: 1;}#sk-container-id-1 div.sk-parallel {display: flex;align-items: stretch;justify-content: center;background-color: white;position: relative;}#sk-container-id-1 div.sk-item::before, #sk-container-id-1 div.sk-parallel-item::before {content: \"\";position: absolute;border-left: 1px solid gray;box-sizing: border-box;top: 0;bottom: 0;left: 50%;z-index: -1;}#sk-container-id-1 div.sk-parallel-item {display: flex;flex-direction: column;z-index: 1;position: relative;background-color: white;}#sk-container-id-1 div.sk-parallel-item:first-child::after {align-self: flex-end;width: 50%;}#sk-container-id-1 div.sk-parallel-item:last-child::after {align-self: flex-start;width: 50%;}#sk-container-id-1 div.sk-parallel-item:only-child::after {width: 0;}#sk-container-id-1 div.sk-dashed-wrapped {border: 1px dashed gray;margin: 0 0.4em 0.5em 0.4em;box-sizing: border-box;padding-bottom: 0.4em;background-color: white;}#sk-container-id-1 div.sk-label label {font-family: monospace;font-weight: bold;display: inline-block;line-height: 1.2em;}#sk-container-id-1 div.sk-label-container {text-align: center;}#sk-container-id-1 div.sk-container {/* jupyter's `normalize.less` sets `[hidden] { display: none; }` but bootstrap.min.css set `[hidden] { display: none !important; }` so we also need the `!important` here to be able to override the default hidden behavior on the sphinx rendered scikit-learn.org. See: https://github.com/scikit-learn/scikit-learn/issues/21755 */display: inline-block !important;position: relative;}#sk-container-id-1 div.sk-text-repr-fallback {display: none;}</style><div id=\"sk-container-id-1\" class=\"sk-top-container\"><div class=\"sk-text-repr-fallback\"><pre>NearestNeighbors(metric=&#x27;cosine&#x27;)</pre><b>In a Jupyter environment, please rerun this cell to show the HTML representation or trust the notebook. <br />On GitHub, the HTML representation is unable to render, please try loading this page with nbviewer.org.</b></div><div class=\"sk-container\" hidden><div class=\"sk-item\"><div class=\"sk-estimator sk-toggleable\"><input class=\"sk-toggleable__control sk-hidden--visually\" id=\"sk-estimator-id-1\" type=\"checkbox\" checked><label for=\"sk-estimator-id-1\" class=\"sk-toggleable__label sk-toggleable__label-arrow\">NearestNeighbors</label><div class=\"sk-toggleable__content\"><pre>NearestNeighbors(metric=&#x27;cosine&#x27;)</pre></div></div></div></div></div>"
            ]
          },
          "metadata": {},
          "execution_count": 33
        }
      ]
    },
    {
      "cell_type": "code",
      "source": [
        "def get_song_recommendations(query_song):\n",
        "    # Transform the query song using the TF-IDF vectorizer\n",
        "    query_vector = tfidf_vectorizer.transform([query_song])\n",
        "\n",
        "    # Find the k-nearest neighbors for the query song\n",
        "    distances, indices = knn_model.kneighbors(query_vector)\n",
        "\n",
        "    # Get the recommended songs\n",
        "    recommended_songs = df.iloc[indices[0]]['song'].tolist()\n",
        "\n",
        "    return recommended_songs"
      ],
      "metadata": {
        "id": "FQmBj0ouePkO"
      },
      "execution_count": null,
      "outputs": []
    },
    {
      "cell_type": "code",
      "source": [
        "df['song'].head(3)"
      ],
      "metadata": {
        "colab": {
          "base_uri": "https://localhost:8080/"
        },
        "id": "a2zwbaYbeoto",
        "outputId": "87620bfd-5905-40cf-e9fe-ef82d13fbbda"
      },
      "execution_count": null,
      "outputs": [
        {
          "output_type": "execute_result",
          "data": {
            "text/plain": [
              "0    Ahe's My Kind Of Girl\n",
              "1         Andante, Andante\n",
              "2           As Good As New\n",
              "Name: song, dtype: object"
            ]
          },
          "metadata": {},
          "execution_count": 36
        }
      ]
    },
    {
      "cell_type": "code",
      "source": [
        "# Example usage\n",
        "query_song = \"As Good As New\"  # Replace with the song you're interested in\n",
        "recommendations = get_song_recommendations(query_song)\n",
        "\n",
        "print(f\"Recommendations for '{query_song}':\")\n",
        "print(recommendations)"
      ],
      "metadata": {
        "colab": {
          "base_uri": "https://localhost:8080/"
        },
        "id": "0RQn0zWdeaoQ",
        "outputId": "1d0e799f-6190-4a80-8839-56f6dabc192e"
      },
      "execution_count": null,
      "outputs": [
        {
          "output_type": "stream",
          "name": "stdout",
          "text": [
            "Recommendations for 'As Good As New':\n",
            "['Feeling Good', 'Be Good Johnny', 'Good Life', \"I'm New\", 'Feeling Good']\n"
          ]
        }
      ]
    },
    {
      "cell_type": "code",
      "source": [],
      "metadata": {
        "id": "0O5pt_1Xed8j"
      },
      "execution_count": null,
      "outputs": []
    }
  ],
  "metadata": {
    "kernelspec": {
      "display_name": "Python 3",
      "language": "python",
      "name": "python3"
    },
    "language_info": {
      "codemirror_mode": {
        "name": "ipython",
        "version": 3
      },
      "file_extension": ".py",
      "mimetype": "text/x-python",
      "name": "python",
      "nbconvert_exporter": "python",
      "pygments_lexer": "ipython3",
      "version": "3.12.0"
    },
    "colab": {
      "provenance": []
    }
  },
  "nbformat": 4,
  "nbformat_minor": 0
}